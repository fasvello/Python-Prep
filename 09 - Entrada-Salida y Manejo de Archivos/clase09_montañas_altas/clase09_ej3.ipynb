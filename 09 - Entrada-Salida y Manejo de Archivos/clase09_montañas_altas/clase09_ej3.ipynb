{
 "cells": [
  {
   "cell_type": "code",
   "execution_count": 13,
   "metadata": {},
   "outputs": [
    {
     "data": {
      "text/plain": [
       "36"
      ]
     },
     "execution_count": 13,
     "metadata": {},
     "output_type": "execute_result"
    }
   ],
   "source": [
    "import os\n",
    "\n",
    "montañas = {'nombre': ['Everest', 'K2', 'Kanchenjunga', 'Lhotse', 'Makalu',\n",
    "                       'Cho Oyu', 'Dhaulagiri', 'Manaslu', 'Nanga Parbat', 'Annapurna I'],\n",
    "            'orden': [1, 2, 3, 4, 5, 6, 7, 8, 9, 10],\n",
    "            'cordillera': ['Himalaya', 'Karakórum', 'Himalaya', 'Himalaya', 'Himalaya', 'Himalaya', 'Himalaya', 'Himalaya', 'Karakórum', 'Himalaya'],\n",
    "            'pais': ['Nepal', 'Pakistán', 'Nepal', 'Nepal', 'Nepal', 'Nepal', 'Nepal', 'Nepal',\n",
    "                     'Pakistán', 'Nepal'],\n",
    "            'altura': [8849, 8611, 8586, 8516, 8485, 8188, 8167, 8163, 8125, 8091]}\n",
    "\n",
    "f = open('clase09_ej3.csv', 'w')\n",
    "\n",
    "f.write(','.join(montañas.keys())+'\\n')"
   ]
  },
  {
   "cell_type": "code",
   "execution_count": 23,
   "metadata": {},
   "outputs": [
    {
     "name": "stdout",
     "output_type": "stream",
     "text": [
      "Everest\n",
      "1\n",
      "Himalaya\n",
      "Nepal\n",
      "8849\n",
      "K2\n",
      "2\n",
      "Karakórum\n",
      "Pakistán\n",
      "8611\n",
      "Kanchenjunga\n",
      "3\n",
      "Himalaya\n",
      "Nepal\n",
      "8586\n",
      "Lhotse\n",
      "4\n",
      "Himalaya\n",
      "Nepal\n",
      "8516\n",
      "Makalu\n",
      "5\n",
      "Himalaya\n",
      "Nepal\n",
      "8485\n",
      "Cho Oyu\n",
      "6\n",
      "Himalaya\n",
      "Nepal\n",
      "8188\n",
      "Dhaulagiri\n",
      "7\n",
      "Himalaya\n",
      "Nepal\n",
      "8167\n",
      "Manaslu\n",
      "8\n",
      "Himalaya\n",
      "Nepal\n",
      "8163\n",
      "Nanga Parbat\n",
      "9\n",
      "Karakórum\n",
      "Pakistán\n",
      "8125\n",
      "Annapurna I\n",
      "10\n",
      "Himalaya\n",
      "Nepal\n",
      "8091\n"
     ]
    }
   ],
   "source": [
    "for v in range(0,10):\n",
    "    for k in montañas:\n",
    "       print(montañas[k][v])"
   ]
  },
  {
   "cell_type": "code",
   "execution_count": 14,
   "metadata": {},
   "outputs": [],
   "source": [
    "\n",
    "f.close()"
   ]
  }
 ],
 "metadata": {
  "kernelspec": {
   "display_name": "Python 3.10.5 64-bit (windows store)",
   "language": "python",
   "name": "python3"
  },
  "language_info": {
   "codemirror_mode": {
    "name": "ipython",
    "version": 3
   },
   "file_extension": ".py",
   "mimetype": "text/x-python",
   "name": "python",
   "nbconvert_exporter": "python",
   "pygments_lexer": "ipython3",
   "version": "3.10.5"
  },
  "orig_nbformat": 4,
  "vscode": {
   "interpreter": {
    "hash": "69f1851d753232aafa1cb75104d14c85bd206ffdb50093c7950cd696c3498642"
   }
  }
 },
 "nbformat": 4,
 "nbformat_minor": 2
}
