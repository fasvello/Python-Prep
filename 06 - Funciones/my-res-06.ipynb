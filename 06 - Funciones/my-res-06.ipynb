{
 "cells": [
  {
   "cell_type": "code",
   "execution_count": null,
   "metadata": {},
   "outputs": [],
   "source": [
    "def is_primo(x):\n",
    "    res = True\n",
    "    try:\n",
    "        for i in range(2,x-1):\n",
    "            if (x % i == 0):\n",
    "                res=False\n",
    "                break\n",
    "        return res\n",
    "    except TypeError:\n",
    "        print(\"error: debe ser entero\")\n",
    "        \n",
    "\n",
    "is_primo(\"4\")\n"
   ]
  },
  {
   "cell_type": "code",
   "execution_count": null,
   "metadata": {},
   "outputs": [],
   "source": [
    "def lista_primos(x):\n",
    "    primos = [i for i in x if (is_primo(i))]\n",
    "    return primos\n",
    "\n",
    "lista_primos([1,2,3,4,5,6])\n"
   ]
  },
  {
   "cell_type": "code",
   "execution_count": null,
   "metadata": {},
   "outputs": [],
   "source": [
    "def num_moda(lista):\n",
    "    numeros = []\n",
    "    cantidad= []\n",
    "    for n in lista:\n",
    "        if n not in numeros:\n",
    "            numeros.append(n)\n",
    "            cantidad.append(0)\n",
    "    for pos, num in enumerate(numeros):\n",
    "        for i in lista:\n",
    "            if i == num:\n",
    "                cantidad[pos] += 1\n",
    "    for pos, num in enumerate(numeros):\n",
    "        if cantidad[pos] == max(cantidad):\n",
    "            print(num)\n",
    "    print(max(cantidad))\n",
    "\n",
    "num_moda([1,2,2,3,4,4,5,6,6,6,2])"
   ]
  },
  {
   "cell_type": "code",
   "execution_count": null,
   "metadata": {},
   "outputs": [],
   "source": []
  },
  {
   "cell_type": "code",
   "execution_count": null,
   "metadata": {},
   "outputs": [],
   "source": [
    "def num_moda2(lista, valor):\n",
    "    numeros = []\n",
    "    cantidad= []\n",
    "    maximos= []\n",
    "    for n in lista:\n",
    "        if n not in numeros:\n",
    "            numeros.append(n)\n",
    "            cantidad.append(0)\n",
    "    for pos, num in enumerate(numeros):\n",
    "        for i in lista:\n",
    "            if i == num:\n",
    "                cantidad[pos] += 1\n",
    "    for pos, num in enumerate(numeros):\n",
    "        if cantidad[pos] == max(cantidad):\n",
    "            maximos.append(num)\n",
    "    print(max(cantidad))\n",
    "    print(maximos)\n",
    "    if valor == 'max':\n",
    "        print(max(maximos))\n",
    "    else:\n",
    "        print(min(maximos))\n",
    "\n",
    "num_moda2([1,2,2,3,4,4,5,6,6,6,2], 'min')"
   ]
  },
  {
   "cell_type": "code",
   "execution_count": 92,
   "metadata": {},
   "outputs": [
    {
     "name": "stdout",
     "output_type": "stream",
     "text": [
      "Help on function convert_grados in module __main__:\n",
      "\n",
      "convert_grados(val, ori, dest)\n",
      "    Celsius a Farenheit o Kelvin\n",
      "\n"
     ]
    }
   ],
   "source": [
    "def convert_grados(val, ori, dest):\n",
    "    '''\n",
    "    Celsius a Farenheit o Kelvin\n",
    "    '''\n",
    "    if dest == 'F':\n",
    "        return (val * 9/5) + 32\n",
    "    elif dest == 'K':\n",
    "        return val + 273.15\n",
    "\n",
    "convert_grados(0,'C', 'K')\n",
    "help(convert_grados)"
   ]
  },
  {
   "cell_type": "code",
   "execution_count": 149,
   "metadata": {},
   "outputs": [
    {
     "data": {
      "text/plain": [
       "1"
      ]
     },
     "execution_count": 149,
     "metadata": {},
     "output_type": "execute_result"
    }
   ],
   "source": [
    "def factorial(v):\n",
    "    try:\n",
    "        n = int(v)\n",
    "        if n < 0:\n",
    "            return \"Debe ser mayor a 0\"\n",
    "        if n == 0:\n",
    "            return 1\n",
    "        if n > 1:\n",
    "            n = n * factorial(n-1)\n",
    "        return n\n",
    "    except ValueError:\n",
    "        print(\"Debe ingresar un entero\")\n",
    "\n",
    "factorial(input())"
   ]
  }
 ],
 "metadata": {
  "kernelspec": {
   "display_name": "Python 3.8.10 64-bit",
   "language": "python",
   "name": "python3"
  },
  "language_info": {
   "codemirror_mode": {
    "name": "ipython",
    "version": 3
   },
   "file_extension": ".py",
   "mimetype": "text/x-python",
   "name": "python",
   "nbconvert_exporter": "python",
   "pygments_lexer": "ipython3",
   "version": "3.8.10"
  },
  "orig_nbformat": 4,
  "vscode": {
   "interpreter": {
    "hash": "916dbcbb3f70747c44a77c7bcd40155683ae19c65e1c03b4aa3499c5328201f1"
   }
  }
 },
 "nbformat": 4,
 "nbformat_minor": 2
}
