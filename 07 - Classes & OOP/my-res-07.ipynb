{
 "cells": [
  {
   "cell_type": "code",
   "execution_count": 29,
   "metadata": {},
   "outputs": [],
   "source": [
    "class Vehículo:\n",
    "    '''\n",
    "    Clase Vehículo\n",
    "    '''\n",
    "    def __init__(self, color, tipo, cilindrada):\n",
    "        self.color = color\n",
    "        self.tipo = tipo\n",
    "        self.cilindrada = cilindrada\n",
    "        self.velocidad = 0\n",
    "        self.direccion = 0\n",
    "\n",
    "    def acelerar(self, vel):\n",
    "        self.velocidad += vel\n",
    "\n",
    "    def frenar(self, vel):\n",
    "        self.velocidad -= vel\n",
    "    \n",
    "    def doblar(self, grados):\n",
    "        self.direccion += grados\n",
    "\n",
    "    def estado(self):\n",
    "        print(str(self.velocidad) + ' ' + str(self.direccion))\n",
    "\n",
    "    def describir(self):\n",
    "        print(self.tipo + ' ' + self.color + ' ' +\n",
    "            str(self.cilindrada) + ' ' + type(self).__name__)"
   ]
  },
  {
   "cell_type": "code",
   "execution_count": 30,
   "metadata": {},
   "outputs": [],
   "source": [
    "auto = Vehículo('negro', 'auto',1800)\n",
    "auto.acelerar(10)\n",
    "moto = Vehículo('rojo', 'moto', 350)\n",
    "moto.doblar(90)\n",
    "camion = Vehículo('gris', 'camión', 2000)\n",
    "camion.frenar(5)"
   ]
  },
  {
   "cell_type": "code",
   "execution_count": 32,
   "metadata": {},
   "outputs": [
    {
     "name": "stdout",
     "output_type": "stream",
     "text": [
      "auto negro 1800 Vehículo\n",
      "10 45\n"
     ]
    }
   ],
   "source": [
    "auto.describir()\n",
    "auto.doblar(45)\n",
    "auto.estado()"
   ]
  },
  {
   "cell_type": "code",
   "execution_count": 39,
   "metadata": {},
   "outputs": [],
   "source": [
    "class Tools:\n",
    "    def __init__(self) -> None:\n",
    "        pass\n",
    "\n",
    "    def is_primo(self, x):\n",
    "        res = True\n",
    "        try:\n",
    "            for i in range(2,x-1):\n",
    "                if (x % i == 0):\n",
    "                    res=False\n",
    "                    break\n",
    "            return res\n",
    "        except TypeError:\n",
    "            print(\"error: debe ser entero\")\n",
    "\n",
    "    def num_moda2(self,lista, valor):\n",
    "        numeros = []\n",
    "        cantidad= []\n",
    "        maximos= []\n",
    "        for n in lista:\n",
    "            if n not in numeros:\n",
    "                numeros.append(n)\n",
    "                cantidad.append(0)\n",
    "        for pos, num in enumerate(numeros):\n",
    "            for i in lista:\n",
    "                if i == num:\n",
    "                    cantidad[pos] += 1\n",
    "        for pos, num in enumerate(numeros):\n",
    "            if cantidad[pos] == max(cantidad):\n",
    "                maximos.append(num)\n",
    "        print(max(cantidad))\n",
    "        print(maximos)\n",
    "        if valor == 'max':\n",
    "            print(max(maximos))\n",
    "        else:\n",
    "            print(min(maximos))\n",
    "            "
   ]
  },
  {
   "cell_type": "code",
   "execution_count": 43,
   "metadata": {},
   "outputs": [
    {
     "name": "stdout",
     "output_type": "stream",
     "text": [
      "3\n",
      "[2, 6]\n",
      "6\n"
     ]
    }
   ],
   "source": [
    "her = Tools()\n",
    "her.num_moda2([1,2,2,3,4,4,5,6,6,6,2], 'max')"
   ]
  },
  {
   "cell_type": "code",
   "execution_count": 46,
   "metadata": {},
   "outputs": [
    {
     "data": {
      "text/plain": [
       "True"
      ]
     },
     "execution_count": 46,
     "metadata": {},
     "output_type": "execute_result"
    }
   ],
   "source": [
    "import tools as t\n",
    "\n",
    "her = t.Tools()\n",
    "her.is_primo(3)"
   ]
  }
 ],
 "metadata": {
  "kernelspec": {
   "display_name": "Python 3.8.10 64-bit",
   "language": "python",
   "name": "python3"
  },
  "language_info": {
   "codemirror_mode": {
    "name": "ipython",
    "version": 3
   },
   "file_extension": ".py",
   "mimetype": "text/x-python",
   "name": "python",
   "nbconvert_exporter": "python",
   "pygments_lexer": "ipython3",
   "version": "3.8.10"
  },
  "orig_nbformat": 4,
  "vscode": {
   "interpreter": {
    "hash": "916dbcbb3f70747c44a77c7bcd40155683ae19c65e1c03b4aa3499c5328201f1"
   }
  }
 },
 "nbformat": 4,
 "nbformat_minor": 2
}
